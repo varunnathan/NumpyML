{
 "cells": [
  {
   "cell_type": "code",
   "execution_count": 1,
   "metadata": {},
   "outputs": [],
   "source": [
    "import numpy as np\n",
    "from sklearn.datasets import make_classification"
   ]
  },
  {
   "cell_type": "code",
   "execution_count": 2,
   "metadata": {},
   "outputs": [],
   "source": [
    "class KNearestNeighbours(object):\n",
    "    def __init__(self, k, weight='uniform', classifier=True):\n",
    "        self.k = k\n",
    "        self.weight = weight\n",
    "        self.classifier = classifier\n",
    "        \n",
    "    def calc_distance(self, x, y):\n",
    "        return np.sqrt(np.sum((x - y)**2, axis=1))\n",
    "    \n",
    "    def get_neighbours(self, X_test, X_train):\n",
    "        dists, neigh_idxs = [], []\n",
    "        for x_test in X_test:\n",
    "            dist = self.calc_distance(x_test, X_train)\n",
    "            dist_enum = enumerate(dist)\n",
    "            dist_enum_sorted = sorted(dist_enum, key=lambda x: x[1])[:self.k]\n",
    "            top_dist = [tup[1] for tup in dist_enum_sorted]\n",
    "            top_idx = [tup[0] for tup in dist_enum_sorted]\n",
    "            dists.append(top_dist)\n",
    "            neigh_idxs.append(top_idx)\n",
    "        return np.array(dists), np.array(neigh_idxs)\n",
    "    \n",
    "    def predict(self, X_test, X_train, y_train):\n",
    "        top_dists, top_idxs = self.get_neighbours(X_test, X_train)\n",
    "        \n",
    "        if self.classifier:\n",
    "            if self.weight == 'uniform':\n",
    "                y_pred = np.array([np.bincount(y_train[top_idx]).argmax()\n",
    "                                   for top_idx in top_idxs])\n",
    "            elif self.weight == 'distance':\n",
    "                num_classes = len(set(y_train))\n",
    "                proba = []\n",
    "                inv_dists = 1 / top_dists\n",
    "                mean_inv_dists = inv_dists / np.sum(inv_dists, axis=1)[:, np.newaxis]\n",
    "                for i, row in enumerate(mean_inv_dists):\n",
    "                    row_pred = y_train[top_idxs[i]]\n",
    "                    for k in range(num_classes):\n",
    "                        idxs = np.where(row_pred == k)\n",
    "                        prob_idx = np.sum(row[idxs])\n",
    "                        proba.append(prob_idx)\n",
    "                pred_proba = np.array(proba).reshape((X_test.shape[0],\n",
    "                                                      num_classes))\n",
    "                y_pred = pred_proba.argmax(1)\n",
    "                \n",
    "        else:\n",
    "            if self.weight == 'uniform':\n",
    "                y_pred = np.array([np.mean(y_train[top_idx])\n",
    "                                   for top_idx in top_idxs])\n",
    "            elif self.weight == 'distance':\n",
    "                inv_dists = 1 / top_dists\n",
    "                mean_inv_dists = inv_dists / np.sum(inv_dists, axis=1)[:, np.newaxis]\n",
    "                y_pred = []\n",
    "                for i, top_idx in enumerate(top_idxs):\n",
    "                    row_mean_inv_dist = mean_inv_dists[i]\n",
    "                    row_pred = y_train[top_idx]\n",
    "                    y_pred.append(np.sum(row_pred * row_mean_inv_dist))\n",
    "                y_pred = np.array(y_pred)\n",
    "                \n",
    "        return y_pred\n",
    "    \n",
    "    def score(self, y_pred, y_test):\n",
    "        if self.classifier:\n",
    "            return np.float(y_pred == y_test).sum() / np.float(len(y_test))\n",
    "        else:\n",
    "            return np.sqrt(np.mean((y_pred - y_test)**2))"
   ]
  },
  {
   "cell_type": "code",
   "execution_count": null,
   "metadata": {},
   "outputs": [],
   "source": []
  }
 ],
 "metadata": {
  "kernelspec": {
   "display_name": "Python 3",
   "language": "python",
   "name": "python3"
  },
  "language_info": {
   "codemirror_mode": {
    "name": "ipython",
    "version": 3
   },
   "file_extension": ".py",
   "mimetype": "text/x-python",
   "name": "python",
   "nbconvert_exporter": "python",
   "pygments_lexer": "ipython3",
   "version": "3.8.5"
  }
 },
 "nbformat": 4,
 "nbformat_minor": 4
}
